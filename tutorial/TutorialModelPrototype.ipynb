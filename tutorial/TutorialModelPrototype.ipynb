{
 "cells": [
  {
   "cell_type": "markdown",
   "id": "f1ab37a0",
   "metadata": {},
   "source": [
    "# Tutorial: Training and Testing\n",
    "This notebook will guide you through the setup, preprocessing, training, and testing of the `CharlottWorks` model.\n",
    "\n",
    "## Prerequisites\n",
    "Make sure you have the following prerequisites:\n",
    "- Python 3.8+\n",
    "- git\n",
    "- All necessary dependencies are outlined in `requirements.txt` (we will install these in the steps below)."
   ]
  },
  {
   "cell_type": "markdown",
   "id": "3b2e6239",
   "metadata": {},
   "source": [
    "### Step 1: Clone the Repository\n"
   ]
  },
  {
   "cell_type": "code",
   "execution_count": null,
   "id": "ba39ac66",
   "metadata": {},
   "outputs": [],
   "source": [
    "!git clone https://github.com/marchburg/sdg-event-classification.git"
   ]
  },
  {
   "cell_type": "markdown",
   "id": "985f859e",
   "metadata": {},
   "source": [
    "### Step 2: Change the Working Directory\n",
    "Navigate to the newly cloned repository."
   ]
  },
  {
   "cell_type": "code",
   "execution_count": null,
   "id": "5722849c",
   "metadata": {},
   "outputs": [],
   "source": [
    "%cd sdg-event-classification"
   ]
  },
  {
   "cell_type": "markdown",
   "id": "7153f32d",
   "metadata": {},
   "source": [
    "### Step 3: Install the Requirements\n",
    "Use the `requirements.txt` file to install the necessary dependencies."
   ]
  },
  {
   "cell_type": "code",
   "execution_count": null,
   "id": "e01dde81",
   "metadata": {},
   "outputs": [],
   "source": [
    "!pip install -r requirements.txt"
   ]
  },
  {
   "cell_type": "markdown",
   "id": "966ddd55",
   "metadata": {},
   "source": [
    "### Step 4: Check the Default Configuration File\n",
    "Let's examine the default configuration file to understand the settings that will be used during preprocessing, training, and testing."
   ]
  },
  {
   "cell_type": "code",
   "execution_count": null,
   "id": "6638baa4",
   "metadata": {},
   "outputs": [],
   "source": [
    "!cat config.yml"
   ]
  },
  {
   "cell_type": "markdown",
   "id": "ed057a30",
   "metadata": {},
   "source": [
    "### Step 5: Verify Changes in the Configuration File (Optional)\n",
    "If you make any changes to `config.yml`, verify them by running the following command:"
   ]
  },
  {
   "cell_type": "code",
   "execution_count": null,
   "id": "482729ae",
   "metadata": {},
   "outputs": [],
   "source": [
    "!cat config.yml"
   ]
  },
  {
   "cell_type": "markdown",
   "id": "15616840",
   "metadata": {},
   "source": [
    "### Step 6: Data Preprocessing\n",
    "Before training the model, preprocess the data according to the script provided. This step prepares your data for optimal training performance."
   ]
  },
  {
   "cell_type": "code",
   "execution_count": null,
   "id": "c85af528",
   "metadata": {},
   "outputs": [],
   "source": [
    "!python scripts/data_preprocess.py"
   ]
  },
  {
   "cell_type": "markdown",
   "id": "567aa7d0",
   "metadata": {},
   "source": [
    "### Step 7: Clear Any Existing Outputs (Optional)\n",
    "If there are outputs from previous runs, remove them to avoid any conflicts or issues with file overwriting."
   ]
  },
  {
   "cell_type": "code",
   "execution_count": null,
   "id": "0c479271",
   "metadata": {},
   "outputs": [],
   "source": [
    "!rm -rf outputs"
   ]
  },
  {
   "cell_type": "markdown",
   "id": "8b46e02b",
   "metadata": {},
   "source": [
    "### Step 8: Train the Model\n",
    "With the data preprocessed, train the model using the `trainer.py` script."
   ]
  },
  {
   "cell_type": "code",
   "execution_count": null,
   "id": "4572e509",
   "metadata": {},
   "outputs": [],
   "source": [
    "!python scripts/trainer.py"
   ]
  },
  {
   "cell_type": "markdown",
   "id": "87f050fd",
   "metadata": {},
   "source": [
    "### Step 9: Test the Model\n",
    "After training, evaluate the model's performance using the `tester.py` script. This will provide insights into how well the model performs on test data."
   ]
  },
  {
   "cell_type": "code",
   "execution_count": null,
   "id": "55eaec7f",
   "metadata": {},
   "outputs": [],
   "source": [
    "!python scripts/tester.py"
   ]
  },
  {
   "cell_type": "markdown",
   "id": "79317da9",
   "metadata": {},
   "source": [
    "---\n",
    "### Conclusion\n",
    "This notebook walks you through each essential step in setting up, training, and testing the CharlottWorks model. Make sure to review each step for any configuration adjustments that fit your data or training needs."
   ]
  }
 ],
 "metadata": {
  "language_info": {
   "name": "python"
  }
 },
 "nbformat": 4,
 "nbformat_minor": 5
}
